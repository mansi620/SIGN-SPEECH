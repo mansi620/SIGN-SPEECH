{
  "cells": [
    {
      "cell_type": "markdown",
      "metadata": {
        "id": "mMSyHo7E83Gk"
      },
      "source": [
        "TRAINING THE LARGE DATASET"
      ]
    },
    {
      "cell_type": "code",
      "execution_count": null,
      "metadata": {
        "id": "QkWJY39b6Itj"
      },
      "outputs": [],
      "source": [
        "from google.colab import drive\n",
        "drive.mount('/content/drive')"
      ]
    },
    {
      "cell_type": "code",
      "execution_count": null,
      "metadata": {
        "id": "KPLAAf7V6PTH"
      },
      "outputs": [],
      "source": [
        "import numpy as np\n",
        "import pandas as pd"
      ]
    },
    {
      "cell_type": "code",
      "execution_count": null,
      "metadata": {
        "id": "KZkPNyw166Zz"
      },
      "outputs": [],
      "source": [
        "pf=np.load('/content/drive/MyDrive/Colab Notebooks/skeleton/train_data_joint.npy') \n",
        "##THIS DATA  IS TAKEN FROM  https://github.com/jackyjsy/CVPR21Chal-SLR/tree/main/SSTCN\n",
        "##IT IS EXTRACTED OVER AUTSL DATASET\n",
        "##LABELS ARE IN PICKLE FILE "
      ]
    },
    {
      "cell_type": "code",
      "execution_count": null,
      "metadata": {
        "id": "7_ZJfV477ZLf"
      },
      "outputs": [],
      "source": [
        "\n",
        "import torch\n",
        "torch.device(\"cuda:0\" )"
      ]
    },
    {
      "cell_type": "code",
      "execution_count": null,
      "metadata": {
        "id": "Bgcri2rP8YsP"
      },
      "outputs": [],
      "source": [
        "import yaml"
      ]
    },
    {
      "cell_type": "code",
      "execution_count": null,
      "metadata": {
        "colab": {
          "background_save": true
        },
        "id": "-_QDH2UC8j1d"
      },
      "outputs": [],
      "source": [
        "with open('/content/drive/MyDrive/file/HACKTHISFLL/config/sign/train/train_joint.yaml', 'r') as file:\n",
        "    configs= yaml.load(file, Loader=yaml.FullLoader)"
      ]
    },
    {
      "cell_type": "code",
      "execution_count": null,
      "metadata": {
        "colab": {
          "base_uri": "https://localhost:8080/"
        },
        "id": "SxgENtaz8klz",
        "outputId": "f0ff9742-0b84-47b3-f7a1-0f24d2c30d99"
      },
      "outputs": [
        {
          "output_type": "stream",
          "name": "stdout",
          "text": [
            "Attention Enabled!\n",
            "Attention Enabled!\n",
            "Attention Enabled!\n",
            "Attention Enabled!\n",
            "Attention Enabled!\n",
            "Attention Enabled!\n",
            "Attention Enabled!\n",
            "Attention Enabled!\n",
            "Attention Enabled!\n",
            "Attention Enabled!\n",
            "28142\n",
            "4418\n",
            "[ Fri Feb  3 22:32:52 2023 ] Parameters:\n",
            "{'work_dir': './work_dir/sign_joint_final', 'model_saved_name': './save_models/sign_joint_final', 'Experiment_name': 'sign_joint_final', 'config': './config/nturgbd-cross-view/test_bone.yaml', 'phase': 'train', 'save_score': False, 'seed': 1, 'log_interval': 100, 'save_interval': 2, 'eval_interval': 5, 'print_log': True, 'show_topk': [1, 5], 'feeder': 'feeders.feeder.Feeder', 'num_worker': 32, 'train_feeder_args': {'data_path': '/content/drive/MyDrive/Colab Notebooks/skeleton/train_data_joint.npy', 'debug': False, 'is_vector': False, 'label_path': '/content/drive/MyDrive/Colab Notebooks/skeleton/train_label.pkl', 'normalization': True, 'random_choose': True, 'random_mirror': True, 'random_mirror_p': 0.5, 'random_shift': True, 'window_size': 100}, 'test_feeder_args': {'data_path': '/content/drive/MyDrive/Colab Notebooks/skeleton/val_data_joint.npy', 'label_path': '/content/drive/MyDrive/Colab Notebooks/skeleton/val_gt.pkl', 'normalization': True, 'random_mirror': False}, 'model': 'model.decouple_gcn_attn.Model', 'model_args': {'block_size': 41, 'graph': 'graph.sign_27.Graph', 'graph_args': {'labeling_mode': 'spatial'}, 'groups': 16, 'num_class': 226, 'num_person': 1, 'num_point': 27}, 'weights': None, 'ignore_weights': [], 'base_lr': 0.1, 'step': [150, 200], 'device': [0, 1, 2, 3], 'optimizer': 'SGD', 'nesterov': True, 'batch_size': 64, 'test_batch_size': 64, 'start_epoch': 0, 'num_epoch': 250, 'weight_decay': 0.0001, 'keep_rate': 0.9, 'groups': 8, 'only_train_part': True, 'only_train_epoch': 1, 'warm_up_epoch': 20}\n",
            "\n",
            "[ Fri Feb  3 22:32:52 2023 ] Training epoch: 1\n"
          ]
        },
        {
          "output_type": "stream",
          "name": "stderr",
          "text": [
            "\r  0%|          | 0/439 [00:00<?, ?it/s]"
          ]
        },
        {
          "output_type": "stream",
          "name": "stdout",
          "text": [
            "only train part, do not require grad\n",
            "l1.gcn1.DecoupleA-not require grad\n",
            "l2.gcn1.DecoupleA-not require grad\n",
            "l3.gcn1.DecoupleA-not require grad\n",
            "l4.gcn1.DecoupleA-not require grad\n",
            "l5.gcn1.DecoupleA-not require grad\n",
            "l6.gcn1.DecoupleA-not require grad\n",
            "l7.gcn1.DecoupleA-not require grad\n",
            "l8.gcn1.DecoupleA-not require grad\n",
            "l9.gcn1.DecoupleA-not require grad\n",
            "l10.gcn1.DecoupleA-not require grad\n"
          ]
        },
        {
          "output_type": "stream",
          "name": "stderr",
          "text": [
            " 23%|██▎       | 100/439 [01:31<05:01,  1.12it/s]"
          ]
        },
        {
          "output_type": "stream",
          "name": "stdout",
          "text": [
            "[ Fri Feb  3 22:34:24 2023 ] \tBatch(99/439) done. Loss: 5.1121  lr:0.005000\n"
          ]
        },
        {
          "output_type": "stream",
          "name": "stderr",
          "text": [
            " 46%|████▌     | 200/439 [03:01<03:32,  1.12it/s]"
          ]
        },
        {
          "output_type": "stream",
          "name": "stdout",
          "text": [
            "[ Fri Feb  3 22:35:53 2023 ] \tBatch(199/439) done. Loss: 4.6203  lr:0.005000\n"
          ]
        },
        {
          "output_type": "stream",
          "name": "stderr",
          "text": [
            " 68%|██████▊   | 300/439 [04:30<02:04,  1.12it/s]"
          ]
        },
        {
          "output_type": "stream",
          "name": "stdout",
          "text": [
            "[ Fri Feb  3 22:37:22 2023 ] \tBatch(299/439) done. Loss: 3.8735  lr:0.005000\n"
          ]
        },
        {
          "output_type": "stream",
          "name": "stderr",
          "text": [
            " 69%|██████▉   | 305/439 [04:34<01:58,  1.13it/s]"
          ]
        }
      ],
      "source": [
        "%run /content/drive/MyDrive/file/HACKTHISFLL/main.py "
      ]
    },
    {
      "cell_type": "code",
      "execution_count": null,
      "metadata": {
        "id": "CYZUe48U-E_D"
      },
      "outputs": [],
      "source": []
    }
  ],
  "metadata": {
    "accelerator": "GPU",
    "colab": {
      "provenance": []
    },
    "gpuClass": "standard",
    "kernelspec": {
      "display_name": "Python 3",
      "name": "python3"
    },
    "language_info": {
      "name": "python"
    }
  },
  "nbformat": 4,
  "nbformat_minor": 0
}